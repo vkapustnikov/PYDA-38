{
 "cells": [
  {
   "cell_type": "markdown",
   "metadata": {},
   "source": [
    "**ДЗ**\n",
    "1.  Переведите содержимое файла purchase_log.txt в словарь purchases вида:\n",
    "    {‘1840e0b9d4’: ‘Продукты’, …}\n",
    "\n",
    "2.  Для каждого user_id в файле visit_log.csv определите третий столбец с категорией покупки (если покупка была, сам файл visit_log.csv изменять не надо). Запишите в файл funnel.csv визиты из файла visit_log.csv, в которых были покупки с указанием категории.\n",
    "    Учтите условия на данные:\n",
    "    содержимое purchase_log.txt помещается в оперативную память компьютера\n",
    "    содержимое visit_log.csv - нет; используйте только построчную обработку этого файла"
   ]
  },
  {
   "cell_type": "code",
   "execution_count": 1,
   "metadata": {},
   "outputs": [],
   "source": [
    "# Прошу дать комментарии, как можно оптимизировать код. Он работает, но написан, скорее всего, неоптимально. Заранее большое спасибо!\n",
    "\n",
    "# 1. Создаём словарь\n",
    "import json # import json module\n",
    "with open ('HW_5_purchase_log.txt', 'r', encoding = 'utf-8') as purchase_read: # open txt file, use encoding\n",
    "    purchase = {}\n",
    "    i = 0\n",
    "    for line in purchase_read:\n",
    "        purchase.setdefault(json.loads(line)['user_id'], json.loads(line)['category'])\n",
    "len(purchase)\n",
    "\n",
    "# 2. Добавляем категорию покупки\n",
    "with open ('HW_5_visit_log.csv', 'r', encoding = 'utf-8') as visit_read: # open txt file, use encoding\n",
    "       with open ('HW_5_funnel.csv', 'w', encoding = 'utf-8') as funnel: \n",
    "            funnel.write('user_id, source, category\\n')\n",
    "            for line in visit_read:\n",
    "                read = visit_read.readline().strip().split(',')\n",
    "                if read[0] in purchase:\n",
    "                    read.append(purchase[read[0]])\n",
    "                    read = ','.join(read)+'\\n'\n",
    "                    funnel.write(str(read))"
   ]
  },
  {
   "cell_type": "code",
   "execution_count": 60,
   "metadata": {},
   "outputs": [],
   "source": [
    "# 1. Создаём словарь\n",
    "# import json # import json module\n",
    "# with open ('HW_5_purchase_log.txt', 'r', encoding = 'utf-8') as purchase_read: # open txt file, use encoding\n",
    "#     purchase = {}\n",
    "#     i = 0\n",
    "#     for line in purchase_read:\n",
    "#         purchase.setdefault(json.loads(line)['user_id'], json.loads(line)['category'])\n",
    "# len(purchase)\n",
    "\n",
    "# 2. Добавляем категорию покупки\n",
    "# with open ('HW_5_visit_log.csv', 'r', encoding = 'utf-8') as visit_read: # open txt file, use encoding\n",
    "#        with open ('HW_5_funnel.csv', 'w', encoding = 'utf-8') as funnel: \n",
    "#             i = 0\n",
    "#             funnel.write('user_id, source, category\\n')\n",
    "#             for line in visit_read:\n",
    "#                 read = visit_read.readline().strip().split(',')\n",
    "#                 if read[0] in purchase:\n",
    "#                     read.append(purchase[read[0]])\n",
    "#                     read = ','.join(read)+'\\n'\n",
    "#                     print(read)\n",
    "#                     funnel.write(str(read))\n",
    "#                 i += 1\n",
    "#                 if i > 100:\n",
    "#                     break"
   ]
  }
 ],
 "metadata": {
  "kernelspec": {
   "display_name": "Python 3.10.7 64-bit",
   "language": "python",
   "name": "python3"
  },
  "language_info": {
   "codemirror_mode": {
    "name": "ipython",
    "version": 3
   },
   "file_extension": ".py",
   "mimetype": "text/x-python",
   "name": "python",
   "nbconvert_exporter": "python",
   "pygments_lexer": "ipython3",
   "version": "3.10.7"
  },
  "orig_nbformat": 4,
  "vscode": {
   "interpreter": {
    "hash": "a7517f7c17706f1d1a6d6406fef89f70eed5952e0cb45049f8a4837d43efc681"
   }
  }
 },
 "nbformat": 4,
 "nbformat_minor": 2
}
