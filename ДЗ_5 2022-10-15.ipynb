{
 "cells": [
  {
   "cell_type": "markdown",
   "metadata": {},
   "source": [
    "Задание 1\n",
    "Печатные газеты использовали свой формат дат для каждого выпуска. Для каждой газеты из списка напишите формат указанной даты для перевода в объект datetime:\n",
    "The Moscow Times - Wednesday, October 2, 2002\n",
    "The Guardian - Friday, 11.10.13\n",
    "Daily News - Thursday, 18 August 1977\n",
    "\n",
    "Задание 2\n",
    "Дан поток дат в формате YYYY-MM-DD, в которых встречаются некорректные значения:\n",
    "stream = ['2018-04-02’, '2018-02-29’, '2018-19-02’]\n",
    "\n",
    "Напишите функцию, которая проверяет эти даты на корректность. Т. е. для каждой даты возвращает True (дата корректна) или False (некорректная дата).\n",
    "\n",
    "Задание 3\n",
    "Напишите функцию date_range, которая возвращает список дат за период от start_date до end_date. Даты должны вводиться в формате YYYY-MM-DD. В случае неверного формата или при start_date > end_date должен возвращаться пустой список.\n",
    "\n",
    "Задание 4 (необязательное)\n",
    "Ваш коллега прислал код функции:\n",
    "\n",
    "DEFAULT_USER_COUNT = 3\n",
    "\n",
    "def delete_and_return_last_user(region, default_list=['A100’, 'A101’, 'A102’]):\n",
    "\"\"“\n",
    "Удаляет из списка default_list последнего пользователя\n",
    "и возвращает ID нового последнего пользователя.\n",
    "”\"\"\n",
    "element_to_delete = default_list[-1]\n",
    "default_list.remove(element_to_delete)\n",
    "\n",
    "1\n",
    "return default_list[DEFAULT_USER_COUNT-2]\n",
    "При однократном вызове этой функции все работает корректно:\n",
    "delete_and_return_last_user(1)\n",
    "'A101’\n",
    "\n",
    "Однако, при повторном вызове получается ошибка IndexError: list index out of range.\n",
    "\n",
    "Задание:\n",
    "\n",
    "Что значит ошибка list index out of range?\n",
    "Почему при первом запуске функция работает корректно, а при втором - нет?"
   ]
  },
  {
   "cell_type": "code",
   "execution_count": 27,
   "metadata": {},
   "outputs": [
    {
     "name": "stdout",
     "output_type": "stream",
     "text": [
      "2002-10-02 00:00:00\n",
      "2013-10-11 00:00:00\n",
      "1977-08-18 00:00:00\n"
     ]
    }
   ],
   "source": [
    "# Задание 1\n",
    "from datetime import datetime\n",
    "# date = datetime.now().date().strftime('%Y-%m-%d')\n",
    "\n",
    "input_msktimes = 'Wednesday, October 2, 2002'\n",
    "input_guardian = 'Friday, 11.10.13'\n",
    "input_dailnews = 'Thursday, 18 August 1977'\n",
    "\n",
    "msktimes = datetime.strptime(input_msktimes, '%A, %B %d, %Y')\n",
    "guardian = datetime.strptime(input_guardian, '%A, %d.%m.%y')\n",
    "dailnews = datetime.strptime(input_dailnews, '%A, %d %B %Y')\n",
    "\n",
    "print(f'{msktimes}\\n{guardian}\\n{dailnews}')"
   ]
  },
  {
   "cell_type": "code",
   "execution_count": 10,
   "metadata": {},
   "outputs": [
    {
     "name": "stdout",
     "output_type": "stream",
     "text": [
      "2018-04-02 True\n",
      "2018-02-29 False\n",
      "2018-19-02 False\n"
     ]
    }
   ],
   "source": [
    "# Задание 2\n",
    "from datetime import datetime\n",
    "stream = ['2018-04-02', '2018-02-29', '2018-19-02']\n",
    "for date in stream:\n",
    "    try:\n",
    "        date_check = datetime.strptime(date, '%Y-%m-%d')\n",
    "        print(date, True)\n",
    "    except ValueError:\n",
    "        print(date, False)"
   ]
  },
  {
   "cell_type": "code",
   "execution_count": 14,
   "metadata": {},
   "outputs": [
    {
     "data": {
      "text/plain": [
       "['2022-01-01',\n",
       " '2022-01-02',\n",
       " '2022-01-03',\n",
       " '2022-01-04',\n",
       " '2022-01-05',\n",
       " '2022-01-06',\n",
       " '2022-01-07',\n",
       " '2022-01-08',\n",
       " '2022-01-09',\n",
       " '2022-01-10',\n",
       " '2022-01-11',\n",
       " '2022-01-12',\n",
       " '2022-01-13',\n",
       " '2022-01-14',\n",
       " '2022-01-15']"
      ]
     },
     "execution_count": 14,
     "metadata": {},
     "output_type": "execute_result"
    }
   ],
   "source": [
    "# Задание 3\n",
    "def data_range(start_date, end_date):\n",
    "    from datetime import datetime\n",
    "    from datetime import timedelta\n",
    "    range = []\n",
    "    try:\n",
    "        start_date = datetime.strptime(start_date, '%Y-%m-%d')\n",
    "        end_date = datetime.strptime(end_date, '%Y-%m-%d')\n",
    "        while start_date <= end_date:\n",
    "            range.append(datetime.strftime(start_date, '%Y-%m-%d'))\n",
    "            start_date = start_date + timedelta(days = 1)\n",
    "        return range\n",
    "    except:\n",
    "        return range\n",
    "\n",
    "data_range('2022-01-01', '2022-01-15')"
   ]
  },
  {
   "cell_type": "code",
   "execution_count": 50,
   "metadata": {},
   "outputs": [],
   "source": [
    "# Задание 4\n",
    "\n",
    "DEFAULT_USER_COUNT = 3\n",
    "\n",
    "def delete_and_return_last_user(region, default_list=['A100', 'A101', 'A102']):\n",
    "    \"\"\"\n",
    "    Удаляет из списка default_list последнего пользователя\n",
    "    и возвращает ID нового последнего пользователя.\n",
    "    \"\"\"\n",
    "    element_to_delete = default_list[-1]\n",
    "    default_list.remove(element_to_delete)\n",
    "\n",
    "    return default_list[DEFAULT_USER_COUNT-2] #, default_list # добавил, чтобы разобраться\n",
    "\n",
    "# Ответ:\n",
    "# Что значит ошибка list index out of range? \n",
    "    # Индекс искомого элемента в списке находится вне диапазона индексов\n",
    "# Почему при первом запуске функция работает корректно, а при втором - нет?\n",
    "    # В конце своей работы функция ищет в списке элемент с индексом 3-2 == 1. После первого запуска таким элементом является 'A101'.\n",
    "    # Во время второго запуска функция удаляет последний элемент 'A101' из списка, в нём остайтся один элемент 'A100' с индексом '0', а функция по-прежнему пытается найти элемент с индексом '1',\n",
    "    # которого в списке уже нет в принципе."
   ]
  },
  {
   "cell_type": "code",
   "execution_count": 47,
   "metadata": {},
   "outputs": [
    {
     "data": {
      "text/plain": [
       "3"
      ]
     },
     "execution_count": 47,
     "metadata": {},
     "output_type": "execute_result"
    }
   ],
   "source": [
    "DEFAULT_USER_COUNT"
   ]
  },
  {
   "cell_type": "code",
   "execution_count": 48,
   "metadata": {},
   "outputs": [
    {
     "data": {
      "text/plain": [
       "('A101', ['A100', 'A101'])"
      ]
     },
     "execution_count": 48,
     "metadata": {},
     "output_type": "execute_result"
    }
   ],
   "source": [
    "delete_and_return_last_user(1)"
   ]
  }
 ],
 "metadata": {
  "kernelspec": {
   "display_name": "Python 3.10.7 64-bit",
   "language": "python",
   "name": "python3"
  },
  "language_info": {
   "codemirror_mode": {
    "name": "ipython",
    "version": 3
   },
   "file_extension": ".py",
   "mimetype": "text/x-python",
   "name": "python",
   "nbconvert_exporter": "python",
   "pygments_lexer": "ipython3",
   "version": "3.10.7"
  },
  "orig_nbformat": 4,
  "vscode": {
   "interpreter": {
    "hash": "a7517f7c17706f1d1a6d6406fef89f70eed5952e0cb45049f8a4837d43efc681"
   }
  }
 },
 "nbformat": 4,
 "nbformat_minor": 2
}
