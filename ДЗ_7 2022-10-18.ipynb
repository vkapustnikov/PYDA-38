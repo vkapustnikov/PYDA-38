{
 "cells": [
  {
   "cell_type": "markdown",
   "metadata": {},
   "source": [
    "Задание 1\n",
    "Напишите функцию, которая возвращает название валюты (поле ‘Name’) с максимальным значением курса с помощью сервиса https://www.cbr-xml-daily.ru/daily_json.js\n",
    "\n",
    "Задание 2\n",
    "Добавьте в класс Rate параметр diff (со значениями True или False), который в случае значения True в методах курсов валют (eur, usd итд) будет возвращать не курс валюты, а изменение по сравнению в прошлым значением. Считайте, self.diff будет принимать значение True только при возврате значения курса. При отображении всей информации о валюте он не используется.\n",
    "\n",
    "Задание 3\n",
    "Напишите класс Designer, который учитывает количество международных премий. Подсказки в коде занятия в разделе “Домашнее задание задача 3”.\n",
    "\n",
    "Комментарий по классу Designer такой:\n",
    "Напишите класс Designer, который учитывает количество международных премий для дизайнеров (из презентации: “Повышение на 1 грейд за каждые 7 баллов. Получение международной премии – это +2 балла”). Считайте, что при выходе на работу сотрудник уже имеет две премии и их количество не меняется со стажем (конечно если хотите это можно вручную менять).\n",
    "\n",
    "Класс Designer пишется по аналогии с классом Developer из материалов занятия."
   ]
  },
  {
   "cell_type": "code",
   "execution_count": 1,
   "metadata": {},
   "outputs": [],
   "source": [
    "import requests"
   ]
  },
  {
   "cell_type": "code",
   "execution_count": 2,
   "metadata": {},
   "outputs": [],
   "source": [
    "# Используем материнский класс из урока\n",
    "# Решение 2\n",
    "class Rate:\n",
    "    def __init__(self, format_='value', diff_=False): # добавлен параметр diff\n",
    "        self.format = format_\n",
    "        self.diff = diff_\n",
    "        import requests\n",
    " \n",
    "    def exchange_rates(self):\n",
    "        \"\"\"\n",
    "        Возвращает ответ сервиса с информацией о валютах в виде:\n",
    "        \n",
    "        {\n",
    "            'AMD': {\n",
    "                'CharCode': 'AMD',\n",
    "                'ID': 'R01060',\n",
    "                'Name': 'Армянских драмов',\n",
    "                'Nominal': 100,\n",
    "                'NumCode': '051',\n",
    "                'Previous': 14.103,\n",
    "                'Value': 14.0879\n",
    "                },\n",
    "            ...\n",
    "        }\n",
    "        \"\"\"\n",
    "        self.r = requests.get('https://www.cbr-xml-daily.ru/daily_json.js')\n",
    "        return self.r.json()['Valute']\n",
    "    \n",
    "    def make_format(self, currency):\n",
    "        \"\"\"\n",
    "        Возвращает информацию о валюте currency в двух вариантах:\n",
    "        - полная информация о валюте при self.format = 'full':\n",
    "        Rate('full').make_format('EUR')\n",
    "        {\n",
    "            'CharCode': 'EUR',\n",
    "            'ID': 'R01239',\n",
    "            'Name': 'Евро',\n",
    "            'Nominal': 1,\n",
    "            'NumCode': '978',\n",
    "            'Previous': 79.6765,\n",
    "            'Value': 79.4966\n",
    "        }\n",
    "        \n",
    "        Rate('value').make_format('EUR')\n",
    "        79.4966\n",
    "        \"\"\"\n",
    "        response = self.exchange_rates()\n",
    "        \n",
    "        if currency in response:\n",
    "            if self.format == 'full':\n",
    "                return response[currency]\n",
    "            \n",
    "            if self.format == 'value':\n",
    "                if self.diff is False: # добавлено условие применения параметра diff\n",
    "                    return response[currency]['Value']\n",
    "                else:\n",
    "                    return response[currency]['Value'] - response[currency]['Previous']\n",
    "        \n",
    "        return 'Error'\n",
    "    \n",
    "    def eur(self):\n",
    "        \"\"\"Возвращает курс евро на сегодня в формате self.format\"\"\"\n",
    "        return self.make_format('EUR')\n",
    "    \n",
    "    def usd(self):\n",
    "        \"\"\"Возвращает курс доллара на сегодня в формате self.format\"\"\"\n",
    "        return self.make_format('USD')\n",
    "    \n",
    "    def brl(self):\n",
    "        \"\"\"Возвращает курс бразильского реала на сегодня в формате self.format\"\"\"\n",
    "        return self.make_format('BRL')"
   ]
  },
  {
   "cell_type": "code",
   "execution_count": 3,
   "metadata": {},
   "outputs": [],
   "source": [
    "# Решения - создаём новый класс, который наследует класс с занятия\n",
    "\n",
    "class NewRate(Rate):\n",
    "    def __init__(self):\n",
    "        super().__init__()\n",
    "\n",
    "# Решение 1 - функция, которая выводит название валюты с самым высоким значением курса\n",
    "    def name(self):\n",
    "        ex_rate = {}\n",
    "        rates = r.exchange_rates()\n",
    "        for v in rates.values():\n",
    "            ex_rate.setdefault(v['Name'], v['Value'])\n",
    "        return print(f'Курс {ex_rate[max(ex_rate, key = ex_rate.get)]} {max(ex_rate, key = ex_rate.get)} за рубль') \n",
    "\n",
    "    # def name(Rate):\n",
    "    #     return Rate.usd()"
   ]
  },
  {
   "cell_type": "code",
   "execution_count": 5,
   "metadata": {},
   "outputs": [
    {
     "name": "stdout",
     "output_type": "stream",
     "text": [
      "Курс 84.5711 Китайских юаней за рубль\n"
     ]
    }
   ],
   "source": [
    "# Работа решения 1\n",
    "r = Rate()\n",
    "nr = NewRate()\n",
    "nr.name()"
   ]
  },
  {
   "cell_type": "code",
   "execution_count": 6,
   "metadata": {},
   "outputs": [
    {
     "data": {
      "text/plain": [
       "-0.017900000000000915"
      ]
     },
     "execution_count": 6,
     "metadata": {},
     "output_type": "execute_result"
    }
   ],
   "source": [
    "# Работа решения 2 diff is True\n",
    "r = Rate(format_='value', diff_ = True)\n",
    "r.brl()"
   ]
  },
  {
   "cell_type": "code",
   "execution_count": 7,
   "metadata": {},
   "outputs": [
    {
     "data": {
      "text/plain": [
       "11.6883"
      ]
     },
     "execution_count": 7,
     "metadata": {},
     "output_type": "execute_result"
    }
   ],
   "source": [
    "# Работа решения 2 diff is False\n",
    "r = Rate(format_='value', diff_ = False)\n",
    "r.brl()"
   ]
  },
  {
   "cell_type": "code",
   "execution_count": 8,
   "metadata": {},
   "outputs": [
    {
     "data": {
      "text/plain": [
       "{'ID': 'R01115',\n",
       " 'NumCode': '986',\n",
       " 'CharCode': 'BRL',\n",
       " 'Nominal': 1,\n",
       " 'Name': 'Бразильский реал',\n",
       " 'Value': 11.6883,\n",
       " 'Previous': 11.7062}"
      ]
     },
     "execution_count": 8,
     "metadata": {},
     "output_type": "execute_result"
    }
   ],
   "source": [
    "# Работа решения 2 format == 'full'\n",
    "r = Rate(format_='full', diff_ = True)\n",
    "r.brl()"
   ]
  },
  {
   "cell_type": "code",
   "execution_count": 9,
   "metadata": {},
   "outputs": [],
   "source": [
    "# Задание 3\n",
    "# класс из урока\n",
    "class Employee:\n",
    "    def __init__(self, name, seniority):\n",
    "        self.name = name\n",
    "        self.seniority = seniority\n",
    "        \n",
    "        self.grade = 1\n",
    "    \n",
    "    def grade_up(self):\n",
    "        \"\"\"Повышает уровень сотрудника\"\"\"\n",
    "        self.grade += 1\n",
    "    \n",
    "    def publish_grade(self):\n",
    "        \"\"\"Публикация результатов аккредитации сотрудников\"\"\"\n",
    "        print(self.name, self.grade)\n",
    "    \n",
    "    def check_if_it_is_time_for_upgrade(self):\n",
    "        pass\n",
    "\n",
    "class Designer(Employee):\n",
    "    def __init__(self, name, seniority, award_=2):\n",
    "        super().__init__(name, seniority)\n",
    "        self.seniority += award_ * 2 # очки за премию\n",
    "    \n",
    "    def check_if_it_is_time_for_upgrade(self):\n",
    "        # для каждой аккредитации увеличиваем счетчик на 1\n",
    "        # пока считаем, что все разработчики проходят аккредитацию\n",
    "        self.seniority += 1\n",
    "        \n",
    "        # условие повышения сотрудника из презентации\n",
    "        if self.seniority % 7 == 0:\n",
    "            self.grade_up()\n",
    "        # return print(self.seniority)\n",
    "        \n",
    "        # публикация результатов\n",
    "        return self.publish_grade()"
   ]
  },
  {
   "cell_type": "code",
   "execution_count": 10,
   "metadata": {},
   "outputs": [
    {
     "name": "stdout",
     "output_type": "stream",
     "text": [
      "Иван 1\n",
      "Иван 1\n",
      "Иван 2\n",
      "Иван 2\n",
      "Иван 2\n",
      "Иван 2\n",
      "Иван 2\n",
      "Иван 2\n",
      "Иван 2\n",
      "Иван 3\n",
      "Иван 3\n",
      "Иван 3\n",
      "Иван 3\n",
      "Иван 3\n",
      "Иван 3\n",
      "Иван 3\n",
      "Иван 4\n",
      "Иван 4\n",
      "Иван 4\n",
      "Иван 4\n"
     ]
    }
   ],
   "source": [
    "# Иван по умолчанию\n",
    "ivan = Designer('Иван', 0)\n",
    "for i in range(20):\n",
    "    ivan.check_if_it_is_time_for_upgrade()"
   ]
  },
  {
   "cell_type": "code",
   "execution_count": 11,
   "metadata": {},
   "outputs": [
    {
     "name": "stdout",
     "output_type": "stream",
     "text": [
      "Иван 1\n",
      "Иван 2\n",
      "Иван 2\n",
      "Иван 2\n",
      "Иван 2\n",
      "Иван 2\n",
      "Иван 2\n",
      "Иван 2\n",
      "Иван 3\n",
      "Иван 3\n",
      "Иван 3\n",
      "Иван 3\n",
      "Иван 3\n",
      "Иван 3\n",
      "Иван 3\n",
      "Иван 4\n",
      "Иван 4\n",
      "Иван 4\n",
      "Иван 4\n",
      "Иван 4\n"
     ]
    }
   ],
   "source": [
    "# Иван с опытом, но без премии\n",
    "ivan = Designer('Иван', 3, 1)\n",
    "for i in range(20):\n",
    "    ivan.check_if_it_is_time_for_upgrade()"
   ]
  },
  {
   "cell_type": "code",
   "execution_count": null,
   "metadata": {},
   "outputs": [],
   "source": [
    "# ex_rate = {}\n",
    "# for v in request.values():\n",
    "#     # ex_rate = {v['Name']: v['Value']}\n",
    "#     ex_rate.setdefault(v['Name'], v['Value'])\n",
    "# # ex_rate\n",
    "# # max(ex_rate, key = ex_rate.get) # возвращает ключ от максимального значения словаря\n",
    "# print(f'Курс {ex_rate[max(ex_rate, key = ex_rate.get)]} {max(ex_rate, key = ex_rate.get)} за рубль')"
   ]
  },
  {
   "cell_type": "code",
   "execution_count": null,
   "metadata": {},
   "outputs": [],
   "source": [
    "# dict = {'f': 1, 'b': 2, 'c': 3, 'd': 5}\n",
    "# max(dict, key = dict.get) # возвращает ключ от максимального значения словаря"
   ]
  },
  {
   "cell_type": "code",
   "execution_count": null,
   "metadata": {},
   "outputs": [],
   "source": [
    "# import requests\n",
    "# request = requests.get('https://www.cbr-xml-daily.ru/daily_json.js').json()['Valute']\n",
    "# request"
   ]
  }
 ],
 "metadata": {
  "kernelspec": {
   "display_name": "Python 3.10.7 64-bit",
   "language": "python",
   "name": "python3"
  },
  "language_info": {
   "codemirror_mode": {
    "name": "ipython",
    "version": 3
   },
   "file_extension": ".py",
   "mimetype": "text/x-python",
   "name": "python",
   "nbconvert_exporter": "python",
   "pygments_lexer": "ipython3",
   "version": "3.10.7"
  },
  "orig_nbformat": 4,
  "vscode": {
   "interpreter": {
    "hash": "a7517f7c17706f1d1a6d6406fef89f70eed5952e0cb45049f8a4837d43efc681"
   }
  }
 },
 "nbformat": 4,
 "nbformat_minor": 2
}
